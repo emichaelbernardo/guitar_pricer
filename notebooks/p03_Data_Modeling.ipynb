{
 "cells": [
  {
   "cell_type": "code",
   "execution_count": 246,
   "id": "e7d7e0b7-d6bc-4c38-ae92-8ba20d84917f",
   "metadata": {},
   "outputs": [],
   "source": [
    "import pandas as pd\n",
    "import numpy as np\n",
    "\n",
    "\n",
    "import warnings\n",
    "warnings.filterwarnings(\"ignore\")\n",
    "\n",
    "from math import ceil\n",
    "import numpy as np\n",
    "import pandas as pd\n",
    "import scipy.stats as stats\n",
    "\n",
    "import altair as alt\n",
    "\n",
    "import statsmodels.api as sm\n",
    "import statsmodels.robust\n",
    "\n",
    "from sklearn.pipeline import Pipeline\n",
    "from sklearn.metrics import r2_score\n",
    "from sklearn.linear_model import LinearRegression  \n",
    "from sklearn.model_selection import train_test_split\n",
    "from sklearn.metrics import mean_squared_error\n",
    "from sklearn.preprocessing import PolynomialFeatures\n",
    "\n",
    "\n",
    "import seaborn as sns\n",
    "import glm\n",
    "# from glm.glm import GLM\n",
    "# from glm.families import Gaussian\n",
    "\n",
    "%matplotlib inline\n",
    "import matplotlib.pyplot as plt\n",
    "plt.style.use('ggplot')\n",
    "\n",
    "import ast\n",
    "import re\n",
    "from itertools import combinations\n",
    "\n",
    "import math\n",
    "\n",
    "from tqdm import tqdm\n",
    "tqdm.pandas()"
   ]
  },
  {
   "cell_type": "code",
   "execution_count": 247,
   "id": "1bfccac4-9946-46cc-87cf-dd06e28d6888",
   "metadata": {},
   "outputs": [],
   "source": [
    "## Importing the Data"
   ]
  },
  {
   "cell_type": "code",
   "execution_count": 248,
   "id": "c8a74647-1af9-4961-9351-8035dca110d7",
   "metadata": {},
   "outputs": [
    {
     "name": "stdout",
     "output_type": "stream",
     "text": [
      "<class 'pandas.core.frame.DataFrame'>\n",
      "Int64Index: 96337 entries, 0 to 0\n",
      "Data columns (total 11 columns):\n",
      " #   Column       Non-Null Count  Dtype  \n",
      "---  ------       --------------  -----  \n",
      " 0   title        96337 non-null  object \n",
      " 1   condition    96337 non-null  object \n",
      " 2   model        96337 non-null  object \n",
      " 3   brand        96337 non-null  object \n",
      " 4   origin       96337 non-null  object \n",
      " 5   type_code    96337 non-null  int64  \n",
      " 6   origin_code  96337 non-null  float64\n",
      " 7   cond_score   96337 non-null  int64  \n",
      " 8   body_code    96337 non-null  int64  \n",
      " 9   price_code   96337 non-null  int64  \n",
      " 10  price        96337 non-null  float64\n",
      "dtypes: float64(2), int64(4), object(5)\n",
      "memory usage: 8.8+ MB\n"
     ]
    }
   ],
   "source": [
    "## import main data\n",
    "\n",
    "#mvp_data = pd.read_csv('../data/guitar_scrap_02132022.csv')\n",
    "#mvp_data = pd.read_csv('../data/eng_MVP_data.csv')\n",
    "modeling_data = pd.read_csv('../data/modeling_df.csv',index_col=0)\n",
    "modeling_data.info()\n",
    "\n",
    "\n"
   ]
  },
  {
   "cell_type": "code",
   "execution_count": 249,
   "id": "3b5e9523-5f5e-480b-9079-d2aeb7e16d1e",
   "metadata": {},
   "outputs": [
    {
     "data": {
      "text/plain": [
       "title          0\n",
       "condition      0\n",
       "model          0\n",
       "brand          0\n",
       "origin         0\n",
       "type_code      0\n",
       "origin_code    0\n",
       "cond_score     0\n",
       "body_code      0\n",
       "price_code     0\n",
       "price          0\n",
       "dtype: int64"
      ]
     },
     "execution_count": 249,
     "metadata": {},
     "output_type": "execute_result"
    }
   ],
   "source": [
    "modeling_data.isna().sum()"
   ]
  },
  {
   "cell_type": "markdown",
   "id": "052c8f8c-df41-42ae-adbd-337eafdb861f",
   "metadata": {},
   "source": [
    "## Model Prep"
   ]
  },
  {
   "cell_type": "code",
   "execution_count": 250,
   "id": "6ad46de0-a799-46ac-87b4-819890a97743",
   "metadata": {},
   "outputs": [],
   "source": [
    "#modeling_data=modeling_data[modeling_data.cond_score>1]\n",
    "#modeling_data=modeling_data[modeling_data.price>500]\n",
    "modeling_data=modeling_data[modeling_data.price<5000]"
   ]
  },
  {
   "cell_type": "code",
   "execution_count": 251,
   "id": "c9a7674b-f934-4e8a-990c-2b1f3872a95a",
   "metadata": {},
   "outputs": [
    {
     "data": {
      "text/html": [
       "<div>\n",
       "<style scoped>\n",
       "    .dataframe tbody tr th:only-of-type {\n",
       "        vertical-align: middle;\n",
       "    }\n",
       "\n",
       "    .dataframe tbody tr th {\n",
       "        vertical-align: top;\n",
       "    }\n",
       "\n",
       "    .dataframe thead th {\n",
       "        text-align: right;\n",
       "    }\n",
       "</style>\n",
       "<table border=\"1\" class=\"dataframe\">\n",
       "  <thead>\n",
       "    <tr style=\"text-align: right;\">\n",
       "      <th></th>\n",
       "      <th>type_code</th>\n",
       "      <th>origin_code</th>\n",
       "      <th>cond_score</th>\n",
       "      <th>body_code</th>\n",
       "      <th>price_code</th>\n",
       "      <th>price</th>\n",
       "    </tr>\n",
       "  </thead>\n",
       "  <tbody>\n",
       "    <tr>\n",
       "      <th>count</th>\n",
       "      <td>93,009.00</td>\n",
       "      <td>93,009.00</td>\n",
       "      <td>93,009.00</td>\n",
       "      <td>93,009.00</td>\n",
       "      <td>93,009.00</td>\n",
       "      <td>93,009.00</td>\n",
       "    </tr>\n",
       "    <tr>\n",
       "      <th>mean</th>\n",
       "      <td>0.00</td>\n",
       "      <td>1.63</td>\n",
       "      <td>3.25</td>\n",
       "      <td>2.21</td>\n",
       "      <td>1.90</td>\n",
       "      <td>1,399.08</td>\n",
       "    </tr>\n",
       "    <tr>\n",
       "      <th>std</th>\n",
       "      <td>0.00</td>\n",
       "      <td>1.72</td>\n",
       "      <td>0.65</td>\n",
       "      <td>2.06</td>\n",
       "      <td>1.76</td>\n",
       "      <td>1,117.02</td>\n",
       "    </tr>\n",
       "    <tr>\n",
       "      <th>min</th>\n",
       "      <td>0.00</td>\n",
       "      <td>0.00</td>\n",
       "      <td>1.00</td>\n",
       "      <td>0.00</td>\n",
       "      <td>0.00</td>\n",
       "      <td>325.00</td>\n",
       "    </tr>\n",
       "    <tr>\n",
       "      <th>25%</th>\n",
       "      <td>0.00</td>\n",
       "      <td>0.00</td>\n",
       "      <td>3.00</td>\n",
       "      <td>0.00</td>\n",
       "      <td>1.00</td>\n",
       "      <td>640.00</td>\n",
       "    </tr>\n",
       "    <tr>\n",
       "      <th>50%</th>\n",
       "      <td>0.00</td>\n",
       "      <td>1.00</td>\n",
       "      <td>3.00</td>\n",
       "      <td>2.00</td>\n",
       "      <td>1.00</td>\n",
       "      <td>950.00</td>\n",
       "    </tr>\n",
       "    <tr>\n",
       "      <th>75%</th>\n",
       "      <td>0.00</td>\n",
       "      <td>4.00</td>\n",
       "      <td>3.00</td>\n",
       "      <td>4.00</td>\n",
       "      <td>3.00</td>\n",
       "      <td>1,699.99</td>\n",
       "    </tr>\n",
       "    <tr>\n",
       "      <th>max</th>\n",
       "      <td>0.00</td>\n",
       "      <td>4.00</td>\n",
       "      <td>5.00</td>\n",
       "      <td>6.00</td>\n",
       "      <td>6.00</td>\n",
       "      <td>4,999.00</td>\n",
       "    </tr>\n",
       "  </tbody>\n",
       "</table>\n",
       "</div>"
      ],
      "text/plain": [
       "       type_code  origin_code  cond_score  body_code  price_code     price\n",
       "count  93,009.00    93,009.00   93,009.00  93,009.00   93,009.00 93,009.00\n",
       "mean        0.00         1.63        3.25       2.21        1.90  1,399.08\n",
       "std         0.00         1.72        0.65       2.06        1.76  1,117.02\n",
       "min         0.00         0.00        1.00       0.00        0.00    325.00\n",
       "25%         0.00         0.00        3.00       0.00        1.00    640.00\n",
       "50%         0.00         1.00        3.00       2.00        1.00    950.00\n",
       "75%         0.00         4.00        3.00       4.00        3.00  1,699.99\n",
       "max         0.00         4.00        5.00       6.00        6.00  4,999.00"
      ]
     },
     "execution_count": 251,
     "metadata": {},
     "output_type": "execute_result"
    }
   ],
   "source": [
    "modeling_data.describe()"
   ]
  },
  {
   "cell_type": "markdown",
   "id": "0b4f1187-ce3e-4e0a-a2c7-1863c70bab91",
   "metadata": {},
   "source": [
    "# Begin Modeling! "
   ]
  },
  {
   "cell_type": "code",
   "execution_count": 252,
   "id": "de875d8f-404b-48a5-8e08-4c68aaebfba6",
   "metadata": {},
   "outputs": [
    {
     "data": {
      "text/plain": [
       "Index(['title', 'condition', 'model', 'brand', 'origin', 'type_code',\n",
       "       'origin_code', 'cond_score', 'body_code', 'price_code', 'price'],\n",
       "      dtype='object')"
      ]
     },
     "execution_count": 252,
     "metadata": {},
     "output_type": "execute_result"
    }
   ],
   "source": [
    "modeling_data.columns"
   ]
  },
  {
   "cell_type": "code",
   "execution_count": 253,
   "id": "988f5622-0963-41b1-864c-4be4b08c6b4d",
   "metadata": {},
   "outputs": [
    {
     "data": {
      "text/plain": [
       "(93009, 5)"
      ]
     },
     "execution_count": 253,
     "metadata": {},
     "output_type": "execute_result"
    }
   ],
   "source": [
    "\n",
    "#features_in = ['type_code','origin_code','cond_score','price_code'] \n",
    "features_in = ['type_code','origin_code','cond_score','body_code','price_code']\n",
    "\n",
    "\n",
    "\n",
    "X = modeling_data[features_in] \n",
    "#X = pd.get_dummies(data=X, drop_first=True) # since we numerically encoded the categorical data, no need for dummies!  \n",
    "X.head()\n",
    "X.shape"
   ]
  },
  {
   "cell_type": "code",
   "execution_count": 254,
   "id": "73e95d14-97d4-48d3-8e16-1bf23668a44d",
   "metadata": {},
   "outputs": [],
   "source": [
    "Y = modeling_data['price']\n"
   ]
  },
  {
   "cell_type": "code",
   "execution_count": 255,
   "id": "07e812fb-c4ac-459a-a2f2-35782056b198",
   "metadata": {},
   "outputs": [
    {
     "name": "stdout",
     "output_type": "stream",
     "text": [
      "(74407, 5)\n",
      "(18602, 5)\n",
      "(74407,)\n",
      "(18602,)\n"
     ]
    }
   ],
   "source": [
    "from sklearn.model_selection import train_test_split\n",
    "X_train, X_test, y_train, y_test = train_test_split(X, Y, test_size=0.2, random_state=101)\n",
    "print(X_train.shape)\n",
    "print(X_test.shape)\n",
    "print(y_train.shape)\n",
    "print(y_test.shape)"
   ]
  },
  {
   "cell_type": "code",
   "execution_count": 256,
   "id": "2e916a88-75b2-4454-b48a-05b268641ee5",
   "metadata": {},
   "outputs": [
    {
     "name": "stdout",
     "output_type": "stream",
     "text": [
      "327.2423649056582\n"
     ]
    }
   ],
   "source": [
    "from sklearn.linear_model import LinearRegression\n",
    "model = LinearRegression()\n",
    "model.fit(X_train,y_train)\n",
    "\n",
    "# print the intercept\n",
    "print(model.intercept_)"
   ]
  },
  {
   "cell_type": "code",
   "execution_count": 257,
   "id": "0ee167fa-855b-450f-b640-6d50aa8fbbe9",
   "metadata": {},
   "outputs": [
    {
     "data": {
      "text/html": [
       "<div>\n",
       "<style scoped>\n",
       "    .dataframe tbody tr th:only-of-type {\n",
       "        vertical-align: middle;\n",
       "    }\n",
       "\n",
       "    .dataframe tbody tr th {\n",
       "        vertical-align: top;\n",
       "    }\n",
       "\n",
       "    .dataframe thead th {\n",
       "        text-align: right;\n",
       "    }\n",
       "</style>\n",
       "<table border=\"1\" class=\"dataframe\">\n",
       "  <thead>\n",
       "    <tr style=\"text-align: right;\">\n",
       "      <th></th>\n",
       "      <th>Coefficient</th>\n",
       "    </tr>\n",
       "  </thead>\n",
       "  <tbody>\n",
       "    <tr>\n",
       "      <th>type_code</th>\n",
       "      <td>0.00</td>\n",
       "    </tr>\n",
       "    <tr>\n",
       "      <th>origin_code</th>\n",
       "      <td>-31.58</td>\n",
       "    </tr>\n",
       "    <tr>\n",
       "      <th>cond_score</th>\n",
       "      <td>-30.45</td>\n",
       "    </tr>\n",
       "    <tr>\n",
       "      <th>body_code</th>\n",
       "      <td>15.16</td>\n",
       "    </tr>\n",
       "    <tr>\n",
       "      <th>price_code</th>\n",
       "      <td>626.34</td>\n",
       "    </tr>\n",
       "  </tbody>\n",
       "</table>\n",
       "</div>"
      ],
      "text/plain": [
       "             Coefficient\n",
       "type_code           0.00\n",
       "origin_code       -31.58\n",
       "cond_score        -30.45\n",
       "body_code          15.16\n",
       "price_code        626.34"
      ]
     },
     "execution_count": 257,
     "metadata": {},
     "output_type": "execute_result"
    }
   ],
   "source": [
    "coeff_parameter = pd.DataFrame(model.coef_,X.columns,columns=['Coefficient'])\n",
    "coeff_parameter"
   ]
  },
  {
   "cell_type": "code",
   "execution_count": 258,
   "id": "8f04f1dd-06a4-4fd7-82cd-2b3a4a57d420",
   "metadata": {},
   "outputs": [
    {
     "data": {
      "text/plain": [
       "array([4054.56086124,  862.10222921,  264.96045312, ...,  859.71380993,\n",
       "       2049.22052355,  171.34391064])"
      ]
     },
     "execution_count": 258,
     "metadata": {},
     "output_type": "execute_result"
    }
   ],
   "source": [
    "predictions = model.predict(X_test)\n",
    "predictions"
   ]
  },
  {
   "cell_type": "code",
   "execution_count": 259,
   "id": "d60c2876-8aa5-4779-ae39-c2391afed689",
   "metadata": {},
   "outputs": [
    {
     "data": {
      "text/plain": [
       "Text(0, 0.5, \"['type_code', 'origin_code', 'cond_score', 'body_code', 'price_code']\")"
      ]
     },
     "execution_count": 259,
     "metadata": {},
     "output_type": "execute_result"
    },
    {
     "data": {
      "image/png": "[encoded data removed]",
      "text/plain": [
       "<Figure size 432x288 with 1 Axes>"
      ]
     },
     "metadata": {},
     "output_type": "display_data"
    }
   ],
   "source": [
    "import pandas as pd\n",
    "import matplotlib.pyplot as plt\n",
    "import seaborn as sns\n",
    "\n",
    "#sns.regplot(x='X-Axis', y='Y-Axis', data=df, scatter_kws={\"color\": \"red\"}, line_kws={\"color\": \"green\"})\n",
    "p = sns.regplot(y_test,predictions,scatter_kws={\"color\": \"blue\"}, line_kws={\"color\": \"red\"}).set(title='Predicting Guitar Prices')\n",
    "\n",
    "plt.xlabel(\"Guitar Prices\")\n",
    "plt.ylabel(f'{features_in}')"
   ]
  },
  {
   "cell_type": "code",
   "execution_count": 260,
   "id": "7c0eff85-1114-4378-a94e-2135542231ee",
   "metadata": {},
   "outputs": [
    {
     "data": {
      "text/plain": [
       "Index(['Actual', 'Predicted', 'title', 'condition', 'model', 'brand', 'origin',\n",
       "       'type_code', 'origin_code', 'cond_score', 'body_code', 'price_code',\n",
       "       'price'],\n",
       "      dtype='object')"
      ]
     },
     "execution_count": 260,
     "metadata": {},
     "output_type": "execute_result"
    }
   ],
   "source": [
    "#manually test accuracy\n",
    "predictions = model.predict(X_test)\n",
    "df_results = pd.DataFrame({'Actual': y_test, 'Predicted': predictions})\n",
    "#df_results['accuracy'] = df_results.Predicted / df_results.Actual if (df_results.Predicted / df_results.Actual)<1.0 else \n",
    "df_comparison = pd.merge(df_results,modeling_data, how=\"inner\", left_on=\"Actual\", right_on=\"price\")\n",
    "df_comparison.columns"
   ]
  },
  {
   "cell_type": "code",
   "execution_count": 261,
   "id": "7eb19997-f6a1-4b1c-8509-4a55c0b59e21",
   "metadata": {},
   "outputs": [
    {
     "data": {
      "text/plain": [
       "Index(['title', 'condition', 'model', 'brand', 'origin', 'type_code',\n",
       "       'origin_code', 'cond_score', 'body_code', 'price_code', 'price'],\n",
       "      dtype='object')"
      ]
     },
     "execution_count": 261,
     "metadata": {},
     "output_type": "execute_result"
    }
   ],
   "source": [
    "modeling_data.columns"
   ]
  },
  {
   "cell_type": "code",
   "execution_count": 262,
   "id": "1590a04c-1e38-4441-8b80-38f969eab2e4",
   "metadata": {},
   "outputs": [
    {
     "data": {
      "text/plain": [
       "title                                                                                                Predicted  Actual    brand          origin         condition  cond_score\n",
       "Schecter Sun Valley Electric Guitar(Jacksonville, FL)                                                862.23     649.99    Schecter       Asia           Very Good  3             616010\n",
       "Diamond Bird of Prey Electric Guitar (Jacksonville, FL)                                              862.23     649.99    Diamond        Asia           Very Good  3             583730\n",
       "Silvertone Classic 1423 Jupiter Electric Guitar 2021 Blackgold Metallic                              235.89     499.00    Silvertone     United States  0          3             571368\n",
       "Schecter Omen Extreme-6                                                                              235.89     499.00    Schecter       Indonesia      0          3             476976\n",
       "Sterling JP150                                                                                       862.23     699.99    Sterling       Asia           Very Good  3             386555\n",
       "Pre-Owned 1988 Fender Made In Japan Stratocaster Left-Handed Olympic White Electric Guitar With Bag  1,454.47   1,299.99  Fender         Japan          Very Good  3             368928\n",
       "Fender American Professional II Stratocaster Left-Hand - Dark Night #72464                           2,064.38   1,699.99  Fender         United States  0          3             361907\n",
       "                                                                                                     2,049.22   1,699.99  Fender         United States  0          3             350558\n",
       "Silvertone Classic 1423 Jupiter Electric Guitar 2021 Blackgold Metallic                              109.56     499.00    Silvertone     United States  0          3             345828\n",
       "Michael Kelly Mod 55 Fralin Ebony Electric Guitar(Jacksonville, FL)                                  801.32     699.77    Michael Kelly  Asia           Mint       5             345088\n",
       "dtype: int64"
      ]
     },
     "execution_count": 262,
     "metadata": {},
     "output_type": "execute_result"
    }
   ],
   "source": [
    "pred_df = df_comparison[['title',\n",
    "               'Predicted', \n",
    "               'Actual',\n",
    "               'brand',\n",
    "               'origin',\n",
    "               'condition',\n",
    "               'cond_score']]\n",
    "pd.options.display.float_format = '{:,.2f}'.format\n",
    "pred_df[pred_df.Actual<5000].value_counts().head(10)"
   ]
  },
  {
   "cell_type": "code",
   "execution_count": 263,
   "id": "ba8cd880-e0df-4075-b8eb-40a35b6e6eeb",
   "metadata": {},
   "outputs": [],
   "source": [
    "# loading library\n",
    "import pickle"
   ]
  },
  {
   "cell_type": "code",
   "execution_count": 264,
   "id": "0bd26b24-b77a-4534-b078-2cb1ccb7256b",
   "metadata": {},
   "outputs": [],
   "source": [
    "# create an iterator object with write permission - model.pkl\n",
    "with open('guitar.pkl', 'wb') as files:\n",
    "    pickle.dump(model, files)\n",
    "    \n",
    "    \n",
    "    "
   ]
  },
  {
   "cell_type": "code",
   "execution_count": 265,
   "id": "b8f96e32-ef8c-4048-b97d-2e4061820724",
   "metadata": {},
   "outputs": [
    {
     "data": {
      "text/plain": [
       "{'ResponseMetadata': {'RequestId': 'PNENB4N8PPNFVHPN',\n",
       "  'HostId': '1MSTbhXYuI+pCjuF5w7J6bzxMegdh+gI9lNX2A0mLGh9T1D25RVJH26n8HLCHEvlfdd3bjkGwTg=',\n",
       "  'HTTPStatusCode': 200,\n",
       "  'HTTPHeaders': {'x-amz-id-2': '1MSTbhXYuI+pCjuF5w7J6bzxMegdh+gI9lNX2A0mLGh9T1D25RVJH26n8HLCHEvlfdd3bjkGwTg=',\n",
       "   'x-amz-request-id': 'PNENB4N8PPNFVHPN',\n",
       "   'date': 'Mon, 21 Feb 2022 03:24:20 GMT',\n",
       "   'x-amz-version-id': 'I23Y6HOgvEjHgCynXRJH6nezHIX8K30c',\n",
       "   'etag': '\"4f0505e60d8bf2542d8a079472e61abe\"',\n",
       "   'server': 'AmazonS3',\n",
       "   'content-length': '0'},\n",
       "  'RetryAttempts': 0},\n",
       " 'ETag': '\"4f0505e60d8bf2542d8a079472e61abe\"',\n",
       " 'VersionId': 'I23Y6HOgvEjHgCynXRJH6nezHIX8K30c'}"
      ]
     },
     "execution_count": 265,
     "metadata": {},
     "output_type": "execute_result"
    }
   ],
   "source": [
    "## upload model to AWS\n",
    "import boto3\n",
    "import configparser\n",
    "\n",
    "\n",
    "config = configparser.ConfigParser()\n",
    "config.read('../aws.ini')\n",
    "    \n",
    "AWS_key_id     = config['aws']['aws_access_key_id']\n",
    "AWS_secret_key = config['aws']['aws_secret_access_key']  \n",
    "\n",
    "#Creating Session With Boto3.\n",
    "session = boto3.Session(\n",
    "aws_access_key_id = AWS_key_id,\n",
    "aws_secret_access_key =  AWS_secret_key,\n",
    "region_name = 'us-east-1'\n",
    ")\n",
    "\n",
    "#Creating S3 Resource From the Session.\n",
    "#s3 = session.resource('s3')\n",
    "\n",
    "#txt_data = b'This is the content of the file uploaded from python boto3 asdfasdf'\n",
    "\n",
    "#object = s3.Object('dataforguitarapp', '../models/guitar.pkl')\n",
    "\n",
    "#result = object.put(Body=txt_data)\n",
    "\n",
    "\n",
    "\n",
    "\n",
    "s3_resource = session.resource('s3')\n",
    "\n",
    "bucket='dataforguitarapp'\n",
    "key= 'guitar.pkl'\n",
    "\n",
    "pickle_byte_obj = pickle.dumps(model)\n",
    "\n",
    "s3_resource.Object(bucket,key).put(Body=pickle_byte_obj)"
   ]
  },
  {
   "cell_type": "markdown",
   "id": "0cb54913-2204-4d54-b76b-c8110a01180d",
   "metadata": {},
   "source": [
    "## Let's take a further look at the model and how it scored"
   ]
  },
  {
   "cell_type": "code",
   "execution_count": 266,
   "id": "1b6f23b9-0cf8-4ac5-b90f-24bb6e5182e7",
   "metadata": {},
   "outputs": [
    {
     "name": "stdout",
     "output_type": "stream",
     "text": [
      " MSE: 66101.98098424899 , RMSE: 257.10305518264266\n"
     ]
    }
   ],
   "source": [
    "from sklearn.metrics import mean_squared_error\n",
    "import math\n",
    "\n",
    "actual = y_test\n",
    "predicted = predictions\n",
    "\n",
    "mse = mean_squared_error(actual, predicted)\n",
    "rmse = math.sqrt(mse)\n",
    "\n",
    "print(f' MSE: {mse} , RMSE: {rmse}')"
   ]
  },
  {
   "cell_type": "code",
   "execution_count": 220,
   "id": "5f726f36-6060-43de-ae11-062f6eb8282d",
   "metadata": {},
   "outputs": [
    {
     "name": "stdout",
     "output_type": "stream",
     "text": [
      "\n",
      "Validation R^2 score was: 0.9516625361811872\n",
      "Feature coefficient results: \n",
      "\n",
      "type_code : 0.00\n",
      "origin_code : -27.40\n",
      "cond_score : -22.89\n",
      "price_code : 681.61\n"
     ]
    }
   ],
   "source": [
    "\n",
    "# score fit model on test data\n",
    "val_score = model.score(X_test, y_test)\n",
    "\n",
    "# report results\n",
    "print('\\nValidation R^2 score was:', val_score)\n",
    "print('Feature coefficient results: \\n')\n",
    "for feature, coef in zip(X.columns, model.coef_):\n",
    "    print(feature, ':', f'{coef:.2f}') \n",
    "\n"
   ]
  },
  {
   "cell_type": "code",
   "execution_count": 221,
   "id": "25fd685a-961d-4374-8838-f426fa3e7cc3",
   "metadata": {},
   "outputs": [],
   "source": [
    "from sklearn.preprocessing import StandardScaler\n",
    "std = StandardScaler()\n",
    "std.fit(X_train.values)\n",
    "\n",
    "# apply the scaler to train set\n",
    "X_tr = std.transform(X_train.values)\n",
    "\n",
    "# apply the scaler to test set\n",
    "X_tr = std.transform(X_test.values) "
   ]
  },
  {
   "cell_type": "code",
   "execution_count": 222,
   "id": "5557b051-00bf-41b9-a3fd-ffbef1a50fde",
   "metadata": {},
   "outputs": [
    {
     "data": {
      "text/plain": [
       "Ridge(alpha=2)"
      ]
     },
     "execution_count": 222,
     "metadata": {},
     "output_type": "execute_result"
    }
   ],
   "source": [
    "# Ridge Regression\n",
    "from sklearn.linear_model import Ridge\n",
    "lr_model_ridge = Ridge(alpha = 2) # alpha is regularization strength\n",
    "lr_model_ridge.fit(X_train,y_train)"
   ]
  },
  {
   "cell_type": "markdown",
   "id": "3068a9d3-15c3-4013-bba2-99f4779241a6",
   "metadata": {},
   "source": [
    "## Let's look at the OLS model again and how it scored"
   ]
  },
  {
   "cell_type": "code",
   "execution_count": 223,
   "id": "e1c5f578-6610-4eb6-8065-9650655ab80a",
   "metadata": {},
   "outputs": [
    {
     "name": "stdout",
     "output_type": "stream",
     "text": [
      "Adj. R-Squared: 0.9513648587007228\n",
      "R-Squared: 0.9513673658821628\n",
      "Mean Squared Error: 23257631678.46855\n",
      "Log-likelihood: -403333.521135103\n",
      "The total (weighted) sum of squares centered about the mean: 73339592609.11604\n"
     ]
    },
    {
     "data": {
      "text/html": [
       "<table class=\"simpletable\">\n",
       "<caption>OLS Regression Results</caption>\n",
       "<tr>\n",
       "  <th>Dep. Variable:</th>          <td>price</td>      <th>  R-squared:         </th>  <td>   0.951</td>  \n",
       "</tr>\n",
       "<tr>\n",
       "  <th>Model:</th>                   <td>OLS</td>       <th>  Adj. R-squared:    </th>  <td>   0.951</td>  \n",
       "</tr>\n",
       "<tr>\n",
       "  <th>Method:</th>             <td>Least Squares</td>  <th>  F-statistic:       </th>  <td>3.795e+05</td> \n",
       "</tr>\n",
       "<tr>\n",
       "  <th>Date:</th>             <td>Sun, 20 Feb 2022</td> <th>  Prob (F-statistic):</th>   <td>  0.00</td>   \n",
       "</tr>\n",
       "<tr>\n",
       "  <th>Time:</th>                 <td>00:58:54</td>     <th>  Log-Likelihood:    </th> <td>-4.0333e+05</td>\n",
       "</tr>\n",
       "<tr>\n",
       "  <th>No. Observations:</th>      <td> 58196</td>      <th>  AIC:               </th>  <td>8.067e+05</td> \n",
       "</tr>\n",
       "<tr>\n",
       "  <th>Df Residuals:</th>          <td> 58192</td>      <th>  BIC:               </th>  <td>8.067e+05</td> \n",
       "</tr>\n",
       "<tr>\n",
       "  <th>Df Model:</th>              <td>     3</td>      <th>                     </th>      <td> </td>     \n",
       "</tr>\n",
       "<tr>\n",
       "  <th>Covariance Type:</th>      <td>nonrobust</td>    <th>                     </th>      <td> </td>     \n",
       "</tr>\n",
       "</table>\n",
       "<table class=\"simpletable\">\n",
       "<tr>\n",
       "       <td></td>          <th>coef</th>     <th>std err</th>      <th>t</th>      <th>P>|t|</th>  <th>[0.025</th>    <th>0.975]</th>  \n",
       "</tr>\n",
       "<tr>\n",
       "  <th>const</th>       <td>  138.6617</td> <td>    5.298</td> <td>   26.173</td> <td> 0.000</td> <td>  128.278</td> <td>  149.046</td>\n",
       "</tr>\n",
       "<tr>\n",
       "  <th>type_code</th>   <td>-4.038e-13</td> <td> 6.74e-16</td> <td> -599.308</td> <td> 0.000</td> <td>-4.05e-13</td> <td>-4.03e-13</td>\n",
       "</tr>\n",
       "<tr>\n",
       "  <th>origin_code</th> <td>  -27.4020</td> <td>    0.639</td> <td>  -42.870</td> <td> 0.000</td> <td>  -28.655</td> <td>  -26.149</td>\n",
       "</tr>\n",
       "<tr>\n",
       "  <th>cond_score</th>  <td>  -22.8922</td> <td>    1.519</td> <td>  -15.072</td> <td> 0.000</td> <td>  -25.869</td> <td>  -19.915</td>\n",
       "</tr>\n",
       "<tr>\n",
       "  <th>price_code</th>  <td>  681.6119</td> <td>    0.685</td> <td>  994.849</td> <td> 0.000</td> <td>  680.269</td> <td>  682.955</td>\n",
       "</tr>\n",
       "</table>\n",
       "<table class=\"simpletable\">\n",
       "<tr>\n",
       "  <th>Omnibus:</th>       <td>5044.863</td> <th>  Durbin-Watson:     </th> <td>   1.992</td>\n",
       "</tr>\n",
       "<tr>\n",
       "  <th>Prob(Omnibus):</th>  <td> 0.000</td>  <th>  Jarque-Bera (JB):  </th> <td>8032.444</td>\n",
       "</tr>\n",
       "<tr>\n",
       "  <th>Skew:</th>           <td> 0.657</td>  <th>  Prob(JB):          </th> <td>    0.00</td>\n",
       "</tr>\n",
       "<tr>\n",
       "  <th>Kurtosis:</th>       <td> 4.259</td>  <th>  Cond. No.          </th> <td>8.32e+16</td>\n",
       "</tr>\n",
       "</table><br/><br/>Notes:<br/>[1] Standard Errors assume that the covariance matrix of the errors is correctly specified.<br/>[2] The smallest eigenvalue is 1.97e-28. This might indicate that there are<br/>strong multicollinearity problems or that the design matrix is singular."
      ],
      "text/plain": [
       "<class 'statsmodels.iolib.summary.Summary'>\n",
       "\"\"\"\n",
       "                            OLS Regression Results                            \n",
       "==============================================================================\n",
       "Dep. Variable:                  price   R-squared:                       0.951\n",
       "Model:                            OLS   Adj. R-squared:                  0.951\n",
       "Method:                 Least Squares   F-statistic:                 3.795e+05\n",
       "Date:                Sun, 20 Feb 2022   Prob (F-statistic):               0.00\n",
       "Time:                        00:58:54   Log-Likelihood:            -4.0333e+05\n",
       "No. Observations:               58196   AIC:                         8.067e+05\n",
       "Df Residuals:                   58192   BIC:                         8.067e+05\n",
       "Df Model:                           3                                         \n",
       "Covariance Type:            nonrobust                                         \n",
       "===============================================================================\n",
       "                  coef    std err          t      P>|t|      [0.025      0.975]\n",
       "-------------------------------------------------------------------------------\n",
       "const         138.6617      5.298     26.173      0.000     128.278     149.046\n",
       "type_code   -4.038e-13   6.74e-16   -599.308      0.000   -4.05e-13   -4.03e-13\n",
       "origin_code   -27.4020      0.639    -42.870      0.000     -28.655     -26.149\n",
       "cond_score    -22.8922      1.519    -15.072      0.000     -25.869     -19.915\n",
       "price_code    681.6119      0.685    994.849      0.000     680.269     682.955\n",
       "==============================================================================\n",
       "Omnibus:                     5044.863   Durbin-Watson:                   1.992\n",
       "Prob(Omnibus):                  0.000   Jarque-Bera (JB):             8032.444\n",
       "Skew:                           0.657   Prob(JB):                         0.00\n",
       "Kurtosis:                       4.259   Cond. No.                     8.32e+16\n",
       "==============================================================================\n",
       "\n",
       "Notes:\n",
       "[1] Standard Errors assume that the covariance matrix of the errors is correctly specified.\n",
       "[2] The smallest eigenvalue is 1.97e-28. This might indicate that there are\n",
       "strong multicollinearity problems or that the design matrix is singular.\n",
       "\"\"\""
      ]
     },
     "execution_count": 223,
     "metadata": {},
     "output_type": "execute_result"
    }
   ],
   "source": [
    "import statsmodels.api as sm\n",
    "X_train_Sm= sm.add_constant(X_train)\n",
    "X_train_Sm= sm.add_constant(X_train)\n",
    "ls=sm.OLS(y_train,X_train_Sm).fit()\n",
    "print(f'Adj. R-Squared: {ls.rsquared_adj}')\n",
    "print(f'R-Squared: {ls.rsquared}')\n",
    "print(f'Mean Squared Error: {ls.mse_model}')\n",
    "print(f'Log-likelihood: {ls.llf}')\n",
    "print(f'The total (weighted) sum of squares centered about the mean: {ls.centered_tss}')\n",
    "ls.summary()"
   ]
  },
  {
   "cell_type": "code",
   "execution_count": null,
   "id": "23207654-8bf7-4d46-be1c-fd6002889d04",
   "metadata": {},
   "outputs": [],
   "source": []
  },
  {
   "cell_type": "markdown",
   "id": "a629806b-0e16-414f-a8da-39b9e18ad6dd",
   "metadata": {},
   "source": [
    "## Now let's try modeling using GLS instead of OLS"
   ]
  },
  {
   "cell_type": "code",
   "execution_count": 273,
   "id": "dcc78b4e-9a5b-49b5-b0c6-d7c516d5a12d",
   "metadata": {},
   "outputs": [],
   "source": [
    "def runModel_compare(df,features_in):\n",
    "    X = df[features_in] \n",
    "    #X = pd.get_dummies(data=X, drop_first=True)\n",
    "    Y = df['price']\n",
    "\n",
    "    #from sklearn.model_selection import train_test_split\n",
    "    X_train, X_test, y_train, y_test = train_test_split(X, Y, test_size=0.2, random_state=101)\n",
    "\n",
    "    #from sklearn.linear_model import LinearRegression\n",
    "    model = LinearRegression()\n",
    "    model.fit(X_train,y_train)\n",
    "\n",
    "    # print the intercept\n",
    "    # print(model.intercept_)\n",
    "\n",
    "    coeff_parameter = pd.DataFrame(model.coef_,X.columns,columns=['Coefficient'])\n",
    "    #coeff_parameter\n",
    "\n",
    "    predictions = model.predict(X_test)\n",
    "    #predictions\n",
    "\n",
    "    ## plotting the data\n",
    "    #sns.regplot(x='X-Axis', y='Y-Axis', data=df, scatter_kws={\"color\": \"red\"}, line_kws={\"color\": \"green\"})\n",
    "    p = sns.regplot(y_test,predictions,scatter_kws={\"color\": \"blue\"}, line_kws={\"color\": \"red\"}).set(title=f'Model using {features_in}')\n",
    "\n",
    "    plt.xlabel(\"Guitar Prices\")\n",
    "    plt.ylabel(f'Features')\n",
    "    \n",
    "\n",
    "    #from sklearn.metrics import mean_squared_error\n",
    "    #import math\n",
    "\n",
    "    actual = y_test\n",
    "    predicted = predictions\n",
    "\n",
    "    mse = mean_squared_error(actual, predicted)\n",
    "    rmse = math.sqrt(mse)\n",
    "\n",
    "    model.fit(X_train,y_train)\n",
    "    \n",
    "    print('--- Scores: ---')\n",
    "    print(f'Model Score: {model.score(X_train,y_train)}')\n",
    "    print(f'MSE: {mse} \\nRMSE: {rmse}')\n",
    "    \n",
    "    X_train_Sm= sm.add_constant(X_train)\n",
    "    X_train_Sm= sm.add_constant(X_train)\n",
    "    ls=sm.GLS(y_train,X_train_Sm).fit()\n",
    "    print(f'Adj. R-Squared: {ls.rsquared_adj}')\n",
    "    print(f'R-Squared: {ls.rsquared}')\n",
    "    #print(f'Mean Squared Error: {ls.mse_model}')\n",
    "    print(f'Log-likelihood: {ls.llf}')    \n",
    "    print('')\n",
    "    print('--- Comparison ---')\n",
    "    #manually test accuracy\n",
    "    df_results = pd.DataFrame({'Actual': y_test, 'Predicted': predictions})\n",
    "    #df_results['accuracy'] = df_results.Predicted / df_results.Actual if (df_results.Predicted / df_results.Actual)<1.0 else \n",
    "    df_comparison = pd.merge(df_results,modeling_data, how=\"inner\", left_on=\"Actual\", right_on=\"price\")\n",
    "    #df_comparison.columns\n",
    "\n",
    "    pred_df = df_comparison[['title',\n",
    "                   'Predicted', \n",
    "                   'Actual',\n",
    "                   'brand',\n",
    "                   'origin',\n",
    "                   'condition']]\n",
    "    pd.options.display.float_format = '{:,.2f}'.format\n",
    "    compare_vals = pred_df[pred_df.Actual<5000].value_counts().head(20)\n",
    "    print(compare_vals)\n",
    "    print('--- Regression Plot --- ')\n",
    "    \n",
    "    # save the model to disk\n",
    "    # create an iterator object with write permission - model.pkl\n",
    "    with open('guitar.pkl', 'wb') as files:\n",
    "        pickle.dump(model, files)"
   ]
  },
  {
   "cell_type": "code",
   "execution_count": 274,
   "id": "9d88cf47-33ba-44a8-819f-7a3c67cfe01d",
   "metadata": {},
   "outputs": [
    {
     "name": "stdout",
     "output_type": "stream",
     "text": [
      "--- Scores: ---\n",
      "Model Score: 0.9468424679387331\n",
      "MSE: 66101.98098424899 \n",
      "RMSE: 257.10305518264266\n",
      "Adj. R-Squared: 0.9468396100837259\n",
      "R-Squared: 0.9468424679387331\n",
      "Log-likelihood: -518671.9516481226\n",
      "\n",
      "--- Comparison ---\n",
      "title                                                                                                Predicted  Actual    brand          origin         condition\n",
      "Schecter Sun Valley Electric Guitar(Jacksonville, FL)                                                862.23     649.99    Schecter       Asia           Very Good    616010\n",
      "Diamond Bird of Prey Electric Guitar (Jacksonville, FL)                                              862.23     649.99    Diamond        Asia           Very Good    583730\n",
      "Silvertone Classic 1423 Jupiter Electric Guitar 2021 Blackgold Metallic                              235.89     499.00    Silvertone     United States  0            571368\n",
      "Schecter Omen Extreme-6                                                                              235.89     499.00    Schecter       Indonesia      0            476976\n",
      "Sterling JP150                                                                                       862.23     699.99    Sterling       Asia           Very Good    386555\n",
      "Pre-Owned 1988 Fender Made In Japan Stratocaster Left-Handed Olympic White Electric Guitar With Bag  1,454.47   1,299.99  Fender         Japan          Very Good    368928\n",
      "Fender American Professional II Stratocaster Left-Hand - Dark Night #72464                           2,064.38   1,699.99  Fender         United States  0            361907\n",
      "                                                                                                     2,049.22   1,699.99  Fender         United States  0            350558\n",
      "Silvertone Classic 1423 Jupiter Electric Guitar 2021 Blackgold Metallic                              109.56     499.00    Silvertone     United States  0            345828\n",
      "Michael Kelly Mod 55 Fralin Ebony Electric Guitar(Jacksonville, FL)                                  801.32     699.77    Michael Kelly  Asia           Mint         345088\n",
      "Fender American Performer Stratocaster Honeyburst                                                    1,454.47   1,299.99  Fender         United States  0            338688\n",
      "Paul Reed Smith SE Mark Tremonti Standard - Express Shipping - (PRS-0972) Serial: CTID16683          892.55     700.00    PRS            Asia           0            333141\n",
      "Squier Left-Handed Classic Vibe 60s Strat                                                            296.54     449.99    Squier         Asia           Very Good    328448\n",
      "2010 Gibson  Custom Shop Les Paul/SG Standard Heritage Cherry w/OHSC - MINT!                         3,897.65   3,799.00  Gibson         United States  Mint         327510\n",
      "ESP LTD H-1001FR Electric Guitar(Jacksonville, FL)                                                   1,518.77   1,149.00  ESP LTD        Asia           Excellent    327165\n",
      "FENDER Ultra Luxe Strat HSS FR RW MBK                                                                2,675.56   2,599.99  Fender         United States  0            317973\n",
      "ESP LTD EC-1000 Evertune FM 2019 Sunburst(Jacksonville, FL)                                          1,488.31   1,299.00  ESP LTD        Asia           Mint         314678\n",
      "Fender MIM Deluxe Telecaster                                                                         843.29     899.99    Fender         Mexico         Very Good    310744\n",
      "Epiphone SG 61 Reissue TV Yellow                                                                     281.38     479.99    Epiphone       Asia           Very Good    303500\n",
      "Parker Fly 1996 Black with case                                                                      1,988.57   2,199.00  Parker         United States  Very Good    298344\n",
      "dtype: int64\n",
      "--- Regression Plot --- \n"
     ]
    },
    {
     "data": {
      "image/png": "[encoded data removed]",
      "text/plain": [
       "<Figure size 432x288 with 1 Axes>"
      ]
     },
     "metadata": {},
     "output_type": "display_data"
    }
   ],
   "source": [
    "## if predictions seem better  let's export and use this model for the app\n",
    "runModel_compare(modeling_data,features_in)"
   ]
  },
  {
   "cell_type": "markdown",
   "id": "a5ad2049-04d3-4718-b252-1909c1e29bad",
   "metadata": {},
   "source": [
    "## Let's upload this model to AWS instead"
   ]
  },
  {
   "cell_type": "code",
   "execution_count": 275,
   "id": "c872dd50-0920-436b-83ae-3aa823e77d7e",
   "metadata": {},
   "outputs": [
    {
     "data": {
      "text/plain": [
       "{'ResponseMetadata': {'RequestId': 'RPPXKHK466D74ADB',\n",
       "  'HostId': 'YAomce4aqhU+mn++kX3jMZk4JVK8AfefzRFj309z9gzeDULCx1MK2mFi/dImybSwHn7TNZYrDcM=',\n",
       "  'HTTPStatusCode': 200,\n",
       "  'HTTPHeaders': {'x-amz-id-2': 'YAomce4aqhU+mn++kX3jMZk4JVK8AfefzRFj309z9gzeDULCx1MK2mFi/dImybSwHn7TNZYrDcM=',\n",
       "   'x-amz-request-id': 'RPPXKHK466D74ADB',\n",
       "   'date': 'Mon, 21 Feb 2022 05:22:17 GMT',\n",
       "   'x-amz-version-id': '21Wh_WhHAmLosi33E8JO6OjTsvVLEXJf',\n",
       "   'etag': '\"4f0505e60d8bf2542d8a079472e61abe\"',\n",
       "   'server': 'AmazonS3',\n",
       "   'content-length': '0'},\n",
       "  'RetryAttempts': 0},\n",
       " 'ETag': '\"4f0505e60d8bf2542d8a079472e61abe\"',\n",
       " 'VersionId': '21Wh_WhHAmLosi33E8JO6OjTsvVLEXJf'}"
      ]
     },
     "execution_count": 275,
     "metadata": {},
     "output_type": "execute_result"
    }
   ],
   "source": [
    "#Creating Session With Boto3.\n",
    "session = boto3.Session(\n",
    "aws_access_key_id = AWS_key_id,\n",
    "aws_secret_access_key =  AWS_secret_key,\n",
    "region_name = 'us-east-1'\n",
    ")\n",
    "\n",
    "#Creating S3 Resource From the Session.\n",
    "#s3 = session.resource('s3')\n",
    "\n",
    "#txt_data = b'This is the content of the file uploaded from python boto3 asdfasdf'\n",
    "\n",
    "#object = s3.Object('dataforguitarapp', '../models/guitar.pkl')\n",
    "\n",
    "#result = object.put(Body=txt_data)\n",
    "\n",
    "\n",
    "\n",
    "\n",
    "s3_resource = session.resource('s3')\n",
    "\n",
    "bucket='dataforguitarapp'\n",
    "key= 'guitar.pkl'\n",
    "\n",
    "pickle_byte_obj = pickle.dumps(model)\n",
    "\n",
    "s3_resource.Object(bucket,key).put(Body=pickle_byte_obj)"
   ]
  },
  {
   "cell_type": "code",
   "execution_count": null,
   "id": "f410f46b-59bc-44e2-bbac-556bd701bb30",
   "metadata": {},
   "outputs": [],
   "source": []
  },
  {
   "cell_type": "code",
   "execution_count": 192,
   "id": "29db09f9-d7af-4937-8b67-e7584b2c0a46",
   "metadata": {},
   "outputs": [
    {
     "name": "stdout",
     "output_type": "stream",
     "text": [
      "4.0\n"
     ]
    }
   ],
   "source": [
    "print(pickle.format_version)"
   ]
  },
  {
   "cell_type": "code",
   "execution_count": null,
   "id": "e996a0c7-214a-4f90-b716-387bd7382b54",
   "metadata": {},
   "outputs": [],
   "source": [
    "modeling_data.columns"
   ]
  },
  {
   "cell_type": "code",
   "execution_count": null,
   "id": "38ceea55-c007-40c1-b0a6-9e147f483631",
   "metadata": {},
   "outputs": [],
   "source": [
    "#['condition','guitar_brand','guitar_model','guitar_origin','price_range'] \n",
    "\n",
    "lst_condition     = list(set(modeling_data['condition'].values.tolist()))\n",
    "lst_guitar_brand  = list(set(modeling_data['guitar_brand'].values.tolist()))\n",
    "lst_guitar_model  = list(set(modeling_data['guitar_model'].values.tolist()))\n",
    "lst_guitar_origin = list(set(modeling_data['guitar_origin'].values.tolist()))\n",
    "lst_price_range   = list(set(modeling_data['price_range'].values.tolist()))\n"
   ]
  },
  {
   "cell_type": "code",
   "execution_count": null,
   "id": "ac9d65cc-5dd9-403b-99ad-afed0d7fdda0",
   "metadata": {},
   "outputs": [],
   "source": []
  },
  {
   "cell_type": "code",
   "execution_count": null,
   "id": "8dbc8bcb-6679-4ec8-b289-bfc230f6d981",
   "metadata": {},
   "outputs": [],
   "source": []
  }
 ],
 "metadata": {
  "kernelspec": {
   "display_name": "Python 3 (ipykernel)",
   "language": "python",
   "name": "python3"
  },
  "language_info": {
   "codemirror_mode": {
    "name": "ipython",
    "version": 3
   },
   "file_extension": ".py",
   "mimetype": "text/x-python",
   "name": "python",
   "nbconvert_exporter": "python",
   "pygments_lexer": "ipython3",
   "version": "3.8.5"
  }
 },
 "nbformat": 4,
 "nbformat_minor": 5
}
