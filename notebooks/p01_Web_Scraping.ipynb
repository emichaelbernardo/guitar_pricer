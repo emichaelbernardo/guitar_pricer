{
 "cells": [
  {
   "cell_type": "markdown",
   "id": "5f4eb2cc-3c20-45c3-934e-7e93b1b281a9",
   "metadata": {},
   "source": [
    "## Webscraping Guitar Listings from Reverb.com\n",
    "This notebook will:\n",
    "- get number of guitars to scrape\n",
    "- create batches for data to scrape\n",
    "- scrape initial data \n",
    "- use URL from initial data to scrape details \n",
    "- export data to csv"
   ]
  },
  {
   "cell_type": "code",
   "execution_count": 276,
   "id": "60660a66-01d7-413f-b467-f2c274824dbc",
   "metadata": {},
   "outputs": [
    {
     "name": "stderr",
     "output_type": "stream",
     "text": [
      "\n",
      "\n",
      "====== WebDriver manager ======\n",
      "Current google-chrome version is 98.0.4758\n",
      "Get LATEST chromedriver version for 98.0.4758 google-chrome\n",
      "Driver [/Users/embernardo/.wdm/drivers/chromedriver/mac64/98.0.4758.80/chromedriver] found in cache\n"
     ]
    }
   ],
   "source": [
    "# importing libraries\n",
    "\n",
    "import pandas as pd\n",
    "import numpy as np\n",
    "from selenium import webdriver\n",
    "from selenium.webdriver.chrome.service import Service\n",
    "from webdriver_manager.chrome import ChromeDriverManager\n",
    "from selenium.webdriver.common.by import By\n",
    "\n",
    "from bs4 import BeautifulSoup as bs\n",
    "import html.parser\n",
    "import time\n",
    "import locale\n",
    "from tqdm import tqdm\n",
    "import requests\n",
    "\n",
    "\n",
    "import warnings\n",
    "warnings.filterwarnings(\"ignore\")\n",
    "\n",
    "tqdm.pandas()\n",
    "driver = webdriver.Chrome(ChromeDriverManager().install()) #this ensures that the chrome driver is current when launched"
   ]
  },
  {
   "cell_type": "markdown",
   "id": "358c0cce-bb08-4997-9ced-fbb83a5959c5",
   "metadata": {},
   "source": [
    "### Web Scraping Functions"
   ]
  },
  {
   "cell_type": "code",
   "execution_count": 254,
   "id": "7a2a52cc-0778-4411-bd60-d60c59c6ca99",
   "metadata": {},
   "outputs": [],
   "source": [
    "## web scrape functions\n",
    "def login():\n",
    "    config = configparser.ConfigParser()\n",
    "    config.read('reverb.ini')\n",
    "    \n",
    "    reverb_user  = config['reverb']['reverb_user']\n",
    "    reverb_pass = config['reverb']['reverb_pass']  \n",
    "    \n",
    "    url = 'https://reverb.com/price-guide'\n",
    "    driver.get(url)\n",
    "    time.sleep(2)\n",
    "    \n",
    "    # find element using xpath to click login\n",
    "    driver.find_element(By.XPATH, '/html/body/header/div[2]/div[1]/div/nav/div[2]/ul/li[6]/a').click()\n",
    "    time.sleep(2)\n",
    "    #enter credentials\n",
    "    \n",
    "    \n",
    "    driver.find_element(By.ID, 'user_session[login]').send_keys(username)\n",
    "    time.sleep(1)\n",
    "    driver.find_element(By.ID, 'user_session[password]').send_keys(password)\n",
    "    time.sleep(1)\n",
    "    #click login button\n",
    "    driver.find_element(By.XPATH, '/html/body/div[4]/div[1]/div[1]/div/div/div/div/div/div[2]/div/form/div[3]/input').click()\n",
    "    \n",
    "\n",
    "def getGuitars(html):\n",
    "    '''\n",
    "    This function retrieves details for each guitar listed\n",
    "    '''\n",
    "    guitar_list = []\n",
    "    guitars = soup.find_all('div', {'class':'grid-card grid-card--redesign'})\n",
    "    for guitar in guitars:\n",
    "        guitar_dict = {}\n",
    "        guitar_dict['title'] = guitar.find('h4',class_='grid-card__title').text\n",
    "        guitar_dict['price'] = guitar.find('span',class_='price-display').text\n",
    "        guitar_dict['condition'] = guitar.find('div',class_='condition-display__label').text\n",
    "        guitar_dict['url'] = guitar.a['href']\n",
    "        guitar_list.append(guitar_dict)\n",
    "    return guitar_list\n",
    "\n",
    "\n",
    "\n",
    "def getmin(vals): \n",
    "    nrange = vals.replace(' ','').split('-')\n",
    "    newval = nrange[0]\n",
    "    return newval\n",
    "\n",
    "\n",
    "def getmax(vals):\n",
    "    nrange = vals.replace(' ','').split('-')\n",
    "    newval = nrange[1]\n",
    "    return newval\n",
    "\n"
   ]
  },
  {
   "cell_type": "markdown",
   "id": "34672e40-86a1-4e7c-8d5b-66062ccd26fd",
   "metadata": {},
   "source": [
    "<h2> Get number of guitars and pages to scrape</h2>"
   ]
  },
  {
   "cell_type": "code",
   "execution_count": 266,
   "id": "b363d484-0449-4918-8310-5dbfde41cd2e",
   "metadata": {},
   "outputs": [],
   "source": [
    "all_url = 'https://reverb.com/marketplace?product_type=electric-guitars'\n",
    "driver.get(all_url)"
   ]
  },
  {
   "cell_type": "code",
   "execution_count": 267,
   "id": "dafe7df7-750d-4fa6-b041-969381817f0c",
   "metadata": {},
   "outputs": [
    {
     "name": "stdout",
     "output_type": "stream",
     "text": [
      "total guitars: 127768 across 2129 pages\n"
     ]
    }
   ],
   "source": [
    "html = driver.page_source\n",
    "soup = bs(html,'html.parser')      \n",
    "\n",
    "\n",
    "# get total # of guitars\n",
    "totalguitars = soup.find('div',{'class':'search-overview__count'}).span.text.replace(' Results','')\n",
    "totalguitars = totalguitars.replace(',','')\n",
    "\n",
    "\n",
    "\n",
    "totalguitars = int(locale.atoi(totalguitars))\n",
    "\n",
    "pages = totalguitars//60\n",
    "\n",
    "print(f'total guitars: {totalguitars} across {pages} pages')"
   ]
  },
  {
   "cell_type": "markdown",
   "id": "e902449f-efbf-409b-9782-77176f8f44e8",
   "metadata": {},
   "source": [
    "## This divides the pages to be scraped into batches to avoid getting flagged by reverb"
   ]
  },
  {
   "cell_type": "code",
   "execution_count": 268,
   "id": "7a8d45b4-6c55-435e-8eef-99a1a9ca487e",
   "metadata": {},
   "outputs": [
    {
     "name": "stdout",
     "output_type": "stream",
     "text": [
      "[range(1, 301), range(301, 601), range(601, 901), range(901, 1201), range(1201, 1501), range(1501, 1801), range(1801, 2101), range(2101, 2129)]\n"
     ]
    },
    {
     "data": {
      "text/plain": [
       "[range(901, 1201)]"
      ]
     },
     "execution_count": 268,
     "metadata": {},
     "output_type": "execute_result"
    }
   ],
   "source": [
    "test_list = range(pages)\n",
    "def create_scrape_batch(lst, n):  \n",
    "    for i in range(1, len(lst), n): \n",
    "        yield lst[i:i + n] \n",
    "\n",
    "n = 300\n",
    "\n",
    "batches = list(create_scrape_batch(test_list, n)) \n",
    "# test print to see if the 2k pages can be broken down in to batches\n",
    "print(batches)\n",
    "\n",
    "# test breaking down of batch to see if the range function works\n",
    "batch1 = batches[:3]\n",
    "batch2 = batches[3:4]\n",
    "\n",
    "batch2"
   ]
  },
  {
   "cell_type": "markdown",
   "id": "39217b19-df57-4045-9211-87b931700efc",
   "metadata": {},
   "source": [
    "## Cycle through all batches and scrape data initial data (Title, URL and image) using getGuitars function above"
   ]
  },
  {
   "cell_type": "code",
   "execution_count": 1,
   "id": "a75513e7-04fb-4d81-91ce-8339a68484b5",
   "metadata": {},
   "outputs": [],
   "source": [
    "\n",
    "master_guitar_listing = []\n",
    "\n",
    "for batch in batches:\n",
    "    print(batch)\n",
    "    for page in tqdm(batch):\n",
    "        #print(page)\n",
    "        #guitar_listing = []\n",
    "        #print(f'scraping page {x} of {pages}')\n",
    "        #driver.get(f'https://reverb.com/marketplace?product_type=electric-guitars'+\n",
    "        #           f'&condition[]=used&condition[]=good&condition[]=very-good'+\n",
    "        #           f'&condition[]=excellent&condition[]=mint&page={page}')\n",
    "        driver.get(f'https://reverb.com/marketplace?product_type=electric-guitars&page={page}')\n",
    "\n",
    "\n",
    "        time.sleep(2)\n",
    "\n",
    "        html = driver.page_source\n",
    "        soup = bs(html,'html.parser') \n",
    "        guitar_page_data = getGuitars(html)\n",
    "        master_guitar_listing.extend(guitar_page_data)\n"
   ]
  },
  {
   "cell_type": "markdown",
   "id": "34b9800c-495b-4c90-8373-fac55b5d27fd",
   "metadata": {},
   "source": [
    "## export data to csv"
   ]
  },
  {
   "cell_type": "code",
   "execution_count": 271,
   "id": "030ff3bd-fc6f-4c12-b37f-b2c09c18de65",
   "metadata": {},
   "outputs": [
    {
     "data": {
      "text/html": [
       "<div>\n",
       "<style scoped>\n",
       "    .dataframe tbody tr th:only-of-type {\n",
       "        vertical-align: middle;\n",
       "    }\n",
       "\n",
       "    .dataframe tbody tr th {\n",
       "        vertical-align: top;\n",
       "    }\n",
       "\n",
       "    .dataframe thead th {\n",
       "        text-align: right;\n",
       "    }\n",
       "</style>\n",
       "<table border=\"1\" class=\"dataframe\">\n",
       "  <thead>\n",
       "    <tr style=\"text-align: right;\">\n",
       "      <th></th>\n",
       "      <th>title</th>\n",
       "      <th>price</th>\n",
       "      <th>condition</th>\n",
       "      <th>url</th>\n",
       "    </tr>\n",
       "  </thead>\n",
       "  <tbody>\n",
       "    <tr>\n",
       "      <th>0</th>\n",
       "      <td>Gibson Zakk Wylde Moderne of Doom Limited Run ...</td>\n",
       "      <td>$3,564.82</td>\n",
       "      <td>Used – Very Good</td>\n",
       "      <td>https://reverb.com/item/50653578-gibson-zakk-w...</td>\n",
       "    </tr>\n",
       "    <tr>\n",
       "      <th>1</th>\n",
       "      <td>Jay Turser Dragon Inlay 2000s Red Burst</td>\n",
       "      <td>$500</td>\n",
       "      <td>Used – Good</td>\n",
       "      <td>https://reverb.com/item/50480779-jay-turser-dr...</td>\n",
       "    </tr>\n",
       "    <tr>\n",
       "      <th>2</th>\n",
       "      <td>Custom Shop '67 Hendrix Tribute Strat #2 1991</td>\n",
       "      <td>$5,995</td>\n",
       "      <td>Used – Excellent</td>\n",
       "      <td>https://reverb.com/item/44364257-custom-shop-6...</td>\n",
       "    </tr>\n",
       "    <tr>\n",
       "      <th>3</th>\n",
       "      <td>Ibanez UV77 Steve Vai Signature Universe Reiss...</td>\n",
       "      <td>$7,499</td>\n",
       "      <td>Used – Mint</td>\n",
       "      <td>https://reverb.com/item/50653574-ibanez-uv77-s...</td>\n",
       "    </tr>\n",
       "    <tr>\n",
       "      <th>4</th>\n",
       "      <td>Jackson 2020 USA Signature Phil Collen PC1 Ele...</td>\n",
       "      <td>$3,000</td>\n",
       "      <td>Used – Excellent</td>\n",
       "      <td>https://reverb.com/item/50653545-jackson-2020-...</td>\n",
       "    </tr>\n",
       "  </tbody>\n",
       "</table>\n",
       "</div>"
      ],
      "text/plain": [
       "                                               title      price  \\\n",
       "0  Gibson Zakk Wylde Moderne of Doom Limited Run ...  $3,564.82   \n",
       "1            Jay Turser Dragon Inlay 2000s Red Burst       $500   \n",
       "2      Custom Shop '67 Hendrix Tribute Strat #2 1991     $5,995   \n",
       "3  Ibanez UV77 Steve Vai Signature Universe Reiss...     $7,499   \n",
       "4  Jackson 2020 USA Signature Phil Collen PC1 Ele...     $3,000   \n",
       "\n",
       "          condition                                                url  \n",
       "0  Used – Very Good  https://reverb.com/item/50653578-gibson-zakk-w...  \n",
       "1       Used – Good  https://reverb.com/item/50480779-jay-turser-dr...  \n",
       "2  Used – Excellent  https://reverb.com/item/44364257-custom-shop-6...  \n",
       "3       Used – Mint  https://reverb.com/item/50653574-ibanez-uv77-s...  \n",
       "4  Used – Excellent  https://reverb.com/item/50653545-jackson-2020-...  "
      ]
     },
     "execution_count": 271,
     "metadata": {},
     "output_type": "execute_result"
    }
   ],
   "source": [
    "guitar_df_0211 = pd.DataFrame(master_guitar_listing)\n",
    "#guitar_df_0210_600.to_csv('data/master_guitar_listing02102022_600.csv', encoding='utf-8') \n",
    "guitar_df_0211.head()"
   ]
  },
  {
   "cell_type": "markdown",
   "id": "13543b45-47d1-42ba-9a43-1248c45b8ea3",
   "metadata": {},
   "source": [
    "## cycle though the list from previous scrape and get features (brand, color, origin etc) for each guitar."
   ]
  },
  {
   "cell_type": "code",
   "execution_count": 277,
   "id": "73d9f9a5-0dd9-4e88-b54c-0a30b3b1bc99",
   "metadata": {},
   "outputs": [],
   "source": [
    "\n",
    "\n",
    "import warnings\n",
    "warnings.filterwarnings(\"ignore\")\n",
    "\n",
    "from tqdm.notebook import tqdm\n",
    "tqdm.pandas()\n",
    "\n",
    "def newcols(url):\n",
    "   \n",
    "    driver.get(url)\n",
    "    html = driver.page_source\n",
    "    soup = bs(html,'html.parser') \n",
    "    specs = soup.find('table',{'class':'spec-list'})\n",
    "    guit_details = {}\n",
    "    \n",
    "    try:\n",
    "        guit_details['title']      = soup.find('h1').text#, text='Categories').find_next_sibling(\"td\").text\n",
    "    except:\n",
    "        guit_details['title']      = 'unknown'\n",
    "    \n",
    "    try:\n",
    "        guit_details['brand']      = specs.find('td', text='Brand').find_next_sibling(\"td\").text\n",
    "    except:\n",
    "        guit_details['brand']      = 'generic'\n",
    "    \n",
    "    try:\n",
    "        guit_details['condition']  = soup.find('div', class_='condition-display__label').text \n",
    "    except:\n",
    "        guit_details['condition']  = 'used'\n",
    "        \n",
    "    try:\n",
    "        guit_details['categories'] = specs.find('td', text='Categories').find_next_sibling(\"td\").text\n",
    "    except:\n",
    "        guit_details['categories'] = 'unknown'\n",
    "        \n",
    "    try:\n",
    "        guit_details['price']      = soup.find('span', class_='price-display').text.replace('$','')\n",
    "    except:\n",
    "        guit_details['price']      = 'unknown'\n",
    "        \n",
    "\n",
    "    try:    \n",
    "        guit_details['type']       = specs.find('td', text='Model Family').find_next_sibling(\"td\").text\n",
    "    except:\n",
    "        guit_details['type']       = 'unknown'\n",
    "    \n",
    "    try:\n",
    "        guit_details['model']     = specs.find('td', text='Model').find_next_sibling(\"td\").text\n",
    "    except:\n",
    "        guit_details['model']     = 'unknown'\n",
    "    try:\n",
    "        guit_details['finish']    = specs.find('td', text='Finish').find_next_sibling(\"td\").text\n",
    "    except:\n",
    "        guit_details['finish']    = 'unknown'\n",
    "        \n",
    "\n",
    "    \n",
    "    try:\n",
    "        guit_details['origin']    = specs.find('td', text='Made In').find_next_sibling(\"td\").text\n",
    "    except:\n",
    "        guit_details['origin']    = 'China'        \n",
    "        \n",
    "    try:\n",
    "        guit_details['pickups']   = specs.find('td', text='Pickup Configuration').find_next_sibling(\"td\").text\n",
    "    except:\n",
    "        guit_details['pickups']   = 'unknown'        \n",
    "        \n",
    "    \n",
    "    try:\n",
    "        guit_details['year']      = specs.find('td', text='Year').find_next_sibling(\"td\").text\n",
    "    except:\n",
    "        guit_details['year']      = 'unknown'  \n",
    "\n",
    "        \n",
    "    try:\n",
    "        guit_details['top']    = specs.find('td', text='Top Material').find_next_sibling(\"td\").text\n",
    "    except:\n",
    "        guit_details['top']    = 'unknown'  \n",
    "        \n",
    "\n",
    "    try:\n",
    "        guit_details['handed']    = specs.find('td', text='Right / Left Handed').find_next_sibling(\"td\").text\n",
    "    except:\n",
    "        guit_details['handed']    = 'Right Handed'        \n",
    "        \n",
    "    try:\n",
    "        guit_details['neck']    = specs.find('td', text='Neck Material').find_next_sibling(\"td\").text\n",
    "    except:\n",
    "        guit_details['neck']    = 'generic'             \n",
    "            \n",
    "            \n",
    "    try:\n",
    "        guit_details['product_group']    = specs.find('td', text='Product Family').find_next_sibling(\"td\").text\n",
    "    except:\n",
    "        guit_details['product_group']    = 'generic'   \n",
    "        \n",
    "    try:\n",
    "        guit_details['body_type']    = specs.find('td', text='Body Type').find_next_sibling(\"td\").text\n",
    "    except:\n",
    "        guit_details['body_type']    = 'generic'           \n",
    "        \n",
    "        \n",
    "    try:\n",
    "        guit_details['body_material']    = specs.find('td', text='Body Material').find_next_sibling(\"td\").text\n",
    "    except:\n",
    "        guit_details['body_material']    = 'unknown'     \n",
    "\n",
    "    try:\n",
    "        guit_details['frets']    = specs.find('td', text='Number of Frets').find_next_sibling(\"td\").text\n",
    "    except:\n",
    "        guit_details['frets']    = '22'          \n",
    "        \n",
    "        \n",
    "        \n",
    "        \n",
    "    #print(f'scraping details for guitar {url} ')  \n",
    "    time.sleep(1)\n",
    "    \n",
    "    return guit_details"
   ]
  },
  {
   "cell_type": "markdown",
   "id": "bfb9cb29-739c-4dd8-b840-7f3c65cc3609",
   "metadata": {},
   "source": [
    "## run the secondary scrape function (seen above) which gets the details then write out csv"
   ]
  },
  {
   "cell_type": "code",
   "execution_count": 1,
   "id": "c1897690-0aeb-4e9c-bf26-e9d6ed87a177",
   "metadata": {},
   "outputs": [],
   "source": [
    "\n",
    "from tqdm import tqdm\n",
    "tqdm.pandas()\n",
    "\n",
    "full_master_guitar_df['more_info'] = full_master_guitar_df.url.progress_apply(newcols)\n",
    "time.sleep(10)\n",
    "print('scrape done!')\n",
    "full_master_guitar_df.info()\n",
    "\n",
    "#test_df = pd.DataFrame(guitar_listing)\n",
    "#time.sleep(10)\n",
    "full_master_guitar_df.to_csv('full_scrape_02142022.csv', encoding='utf-8')    \n",
    "\n",
    "\n"
   ]
  },
  {
   "cell_type": "markdown",
   "id": "80e47136-5fb5-42cb-a417-9d6f509b965c",
   "metadata": {},
   "source": [
    "## Sanity check: This is a small batch scrap test which will be used for the updates later on"
   ]
  },
  {
   "cell_type": "code",
   "execution_count": 182,
   "id": "2136f09c-0255-4289-a297-040242e64fb8",
   "metadata": {},
   "outputs": [
    {
     "name": "stderr",
     "output_type": "stream",
     "text": [
      "100%|█████████████████████████████████████████████████████████████| 11/11 [00:41<00:00,  3.75s/it]\n"
     ]
    },
    {
     "name": "stdout",
     "output_type": "stream",
     "text": [
      "all pages scraped!\n"
     ]
    }
   ],
   "source": [
    "## small batch testing of function\n",
    "guitar_listing = []\n",
    "x=1\n",
    "\n",
    "for batch in tqdm(batches):\n",
    "    #guitar_listing = []\n",
    "    #print(f'scraping page {x} of {pages}')\n",
    "    driver.get(f'https://reverb.com/marketplace?product_type=electric-guitars'+\n",
    "               f'&condition[]=used&condition[]=good&condition[]=very-good'+\n",
    "               f'&condition[]=excellent&condition[]=mint&page={x}')\n",
    "    \n",
    "\n",
    "    time.sleep(2)\n",
    "\n",
    "    html = driver.page_source\n",
    "    soup = bs(html,'html.parser') \n",
    "    guitar_page_data = getGuitars(html)\n",
    "    guitar_listing.extend(guitar_page_data)\n",
    "    \n",
    "print('all pages scraped!')    \n",
    "guitar_df = pd.DataFrame(master_guitar_listing)\n",
    "time.sleep(10)\n",
    "#master_guitar_listing.to_csv('master_guitar_listing.csv', encoding='utf-8')      "
   ]
  },
  {
   "cell_type": "code",
   "execution_count": null,
   "id": "6162fc9d-e221-4df6-b7da-53c071ddeffc",
   "metadata": {},
   "outputs": [],
   "source": []
  },
  {
   "cell_type": "code",
   "execution_count": null,
   "id": "bc074214-ce14-4b26-9c2b-431abbf346a5",
   "metadata": {},
   "outputs": [],
   "source": []
  },
  {
   "cell_type": "code",
   "execution_count": null,
   "id": "55f087b6-1537-48cb-a939-0e12489d918e",
   "metadata": {},
   "outputs": [],
   "source": []
  }
 ],
 "metadata": {
  "kernelspec": {
   "display_name": "Python 3 (ipykernel)",
   "language": "python",
   "name": "python3"
  },
  "language_info": {
   "codemirror_mode": {
    "name": "ipython",
    "version": 3
   },
   "file_extension": ".py",
   "mimetype": "text/x-python",
   "name": "python",
   "nbconvert_exporter": "python",
   "pygments_lexer": "ipython3",
   "version": "3.8.5"
  }
 },
 "nbformat": 4,
 "nbformat_minor": 5
}
